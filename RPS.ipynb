{
 "cells": [
  {
   "cell_type": "markdown",
   "metadata": {},
   "source": [
    "# Rock, Paper, Scissors Game\n",
    "\n",
    "In this game:\n",
    "\n",
    "* You will play against the computer\n",
    "* The winning for each game earns 5 points\n",
    "* The first to reach 50 points wins the game"
   ]
  },
  {
   "cell_type": "code",
   "execution_count": 1,
   "metadata": {},
   "outputs": [],
   "source": [
    "from IPython.display import clear_output\n",
    "from random import choice \n",
    "\n",
    "guesses = [\"rock\", \"paper\", \"scissors\"]\n",
    "\n",
    "player_point = 0\n",
    "computer_point = 0"
   ]
  },
  {
   "cell_type": "code",
   "execution_count": 2,
   "metadata": {},
   "outputs": [],
   "source": [
    "def print_score():\n",
    "    print(\"\\nYou have \" + str(player_point) + \" points.\")\n",
    "    print(\"Computer has \" + str(computer_point) + \" points.\")"
   ]
  },
  {
   "cell_type": "code",
   "execution_count": null,
   "metadata": {
    "scrolled": true
   },
   "outputs": [],
   "source": [
    "while player_point < 50 and computer_point < 50:\n",
    "\n",
    "    computer = choice(guesses)\n",
    "    player = input(\"Rock, Paper, Scissors?\")\n",
    "    clear_output()\n",
    "    player = player.lower()\n",
    "\n",
    "    if player == computer:\n",
    "        print(\"Tie!\")\n",
    "    elif player == \"rock\":\n",
    "        if computer == \"paper\":\n",
    "            print(\"You lose!\", computer, \"covers\", player)\n",
    "            computer_point += 5\n",
    "            print_score()\n",
    "        else:\n",
    "            print(\"You win!\", player, \"smashes\", computer)\n",
    "            player_point += 5\n",
    "            print_score()\n",
    "    elif player == \"paper\":\n",
    "        if computer == \"Scissors\":\n",
    "            print(\"You lose!\", computer, \"cut\", player)\n",
    "            computer_point += 5\n",
    "            print_score()\n",
    "        else:\n",
    "            print(\"You win!\", player, \"covers\", computer)\n",
    "            player_point += 5\n",
    "            print_score()\n",
    "    elif player == \"scissors\":\n",
    "        if computer == \"rock\":\n",
    "            print(\"You lose...\", computer, \"smashes\", player)\n",
    "            computer_point += 5\n",
    "            print_score()\n",
    "        else:\n",
    "            print(\"You win!\", player, \"cut\", computer)\n",
    "            player_point += 5\n",
    "            print_score()\n",
    "    else:\n",
    "        print(\"That's not a valid play. Check your spelling!\")\n",
    "\n",
    "print(\"\\nGame Over!...\")\n",
    "        \n",
    "if player_point > computer_point:\n",
    "    print(\"\\nCongratulations, you are lucky...\")\n",
    "else:\n",
    "    print(\"\\nNot this time, try again!...\")"
   ]
  },
  {
   "cell_type": "code",
   "execution_count": null,
   "metadata": {},
   "outputs": [],
   "source": []
  }
 ],
 "metadata": {
  "kernelspec": {
   "display_name": "Python 3",
   "language": "python",
   "name": "python3"
  },
  "language_info": {
   "codemirror_mode": {
    "name": "ipython",
    "version": 3
   },
   "file_extension": ".py",
   "mimetype": "text/x-python",
   "name": "python",
   "nbconvert_exporter": "python",
   "pygments_lexer": "ipython3",
   "version": "3.7.6"
  }
 },
 "nbformat": 4,
 "nbformat_minor": 4
}
